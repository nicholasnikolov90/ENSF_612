{
 "cells": [
  {
   "cell_type": "code",
   "execution_count": 1,
   "id": "949caba9-01b5-4478-8a70-c149340a3c73",
   "metadata": {},
   "outputs": [],
   "source": [
    "import numpy as np\n",
    "import pandas as pd"
   ]
  },
  {
   "cell_type": "markdown",
   "id": "f4ab2b79-bb80-4bd8-83f6-bcfe5d1f16ab",
   "metadata": {},
   "source": [
    "#Question 1"
   ]
  },
  {
   "cell_type": "code",
   "execution_count": 2,
   "id": "8c0b9484-76e9-43ed-8444-5cfeb6bdc23b",
   "metadata": {},
   "outputs": [
    {
     "name": "stdout",
     "output_type": "stream",
     "text": [
      "             0\n",
      "8       Drive,\n",
      "59         was\n",
      "92        came\n",
      "104    craning\n",
      "97         she\n",
      "30          be\n",
      "44   nonsense.\n",
      "33    anything\n",
      "63         man\n",
      "26      people\n",
      "73        very\n",
      "7       Privet\n",
      "22        They\n"
     ]
    }
   ],
   "source": [
    "#import text\n",
    "text = pd.read_csv('harryPotter.txt', delimiter=' ', header=None)\n",
    "#print original text\n",
    "text=text.T\n",
    "\n",
    "#randomly sample 10% of the rows\n",
    "sampled_text = text.sample(frac=0.10, random_state = 0)\n",
    "print(sampled_text) #print 10% sampled\n",
    "\n",
    "#pseudocode to write into the HDFS\n",
    "#for i in sampled_text:\n",
    "#    write into HDFS\n",
    "\n",
    "#example Hadoop streaming command to write into the HDFS\n",
    "#hadoop jar $HADOOP_HOME/path\n",
    "#-files assignment1.py -mapper /bin/cat -reducer assignment1.py \\\n",
    "#-input haryyPotter.txt -output hdfs_output"
   ]
  },
  {
   "cell_type": "markdown",
   "id": "11fbdaf2-40ec-4bc3-8ea4-6ca0daf3d583",
   "metadata": {},
   "source": [
    "#QUESTION 2"
   ]
  },
  {
   "cell_type": "code",
   "execution_count": 66,
   "id": "18c5d438-bbbb-4247-844e-960ce8e6d85c",
   "metadata": {},
   "outputs": [
    {
     "name": "stdout",
     "output_type": "stream",
     "text": [
      "           0         1  2              3\n",
      "0         Mr       and  1   Drive Privet\n",
      "1        and       Mrs  1  Dudley called\n",
      "2        Mrs   Dursley  1     Dursley Mr\n",
      "3    Dursley        of  1    Dursley Mrs\n",
      "4         of    number  1    Dursley Mrs\n",
      "..       ...       ... ..            ...\n",
      "124    there       was  1     which neck\n",
      "125      was        no  1      with hold\n",
      "126       no     finer  1       with man\n",
      "127    finer       boy  1      you thank\n",
      "128      boy  anywhere  1    youd people\n",
      "\n",
      "[129 rows x 4 columns]\n",
      "            Value  Count\n",
      "0     Dursley Mrs      2\n",
      "1     was Dursley      2\n",
      "2    Drive Privet      1\n",
      "3          she as      1\n",
      "4    over craning      1\n",
      "..            ...    ...\n",
      "122    didnt just      1\n",
      "123        did he      1\n",
      "124  craning time      1\n",
      "125    came which      1\n",
      "126   youd people      1\n",
      "\n",
      "[127 rows x 2 columns]\n"
     ]
    }
   ],
   "source": [
    "#input the example text\n",
    "import string\n",
    "import re\n",
    "text2 = pd.read_csv('harryPotter.txt', delimiter=' ', header=None)\n",
    "\n",
    "#removes all punctuations - preprocessing\n",
    "def remove_punctuation (input_str):\n",
    "    pattern = r'[!@#$%^&*()_+{}\\[\\]:;\"\\'`<>,.?/\\|\\\\-]'\n",
    "    cleaned = re.sub(pattern, '', input_str)\n",
    "    return cleaned\n",
    "\n",
    "text2=text2.T\n",
    "text2_strings = text2[0].astype(str).tolist()\n",
    "n_grams = []\n",
    "\n",
    "#mapper.py\n",
    "#create all pairs of 2 words - not unique yet. Append the value of 1. Generates intermediate key value pairs\n",
    "for i in range(len(text2_strings)-1):\n",
    "    row = [remove_punctuation(text2_strings[i]), remove_punctuation(text2_strings[i+1]), 1]\n",
    "    n_grams.append(row)\n",
    "\n",
    "#reducer.py\n",
    "n_gramdf = pd.DataFrame(n_grams)\n",
    "n_gramdf[3] = sorted(n_gramdf[1] + \" \" + n_gramdf[0])\n",
    "\n",
    "print(n_gramdf)\n",
    "\n",
    "#apply reduction on the third column, counting any duplicates\n",
    "count_series = n_gramdf[3].value_counts()\n",
    "\n",
    "count_df = count_series.reset_index()\n",
    "count_df.columns = ['Value', 'Count']\n",
    "\n",
    "print(count_df)\n",
    "\n",
    "#Example bash command to run the python files above using hadoop streaming\n",
    "#mapper.py and reducer.py would be separate files.\n",
    "\n",
    "#hadoop jar $HADOOP_HOME/path\n",
    "#-files assignment1_mapper.py,assignment1_reducer.p -mapper assignment1_mapper.py -reducer assignment1_reducer.p \\\n",
    "#-input harryPotter.txt -output output_data"
   ]
  },
  {
   "cell_type": "markdown",
   "id": "659a0074-d561-4517-b49a-b3c04368224d",
   "metadata": {},
   "source": [
    "#QUESTION 3"
   ]
  },
  {
   "cell_type": "code",
   "execution_count": 69,
   "id": "b33f5ff6-1786-4160-93b9-3d0368947e9c",
   "metadata": {},
   "outputs": [
    {
     "name": "stdout",
     "output_type": "stream",
     "text": [
      "/Users/nick/developer/ensf-612/assignment_1/harryPotter2.txt\n",
      "/Users/nick/developer/ensf-612/assignment_1/harryPotter.txt\n",
      "[{'They': 'harryPotter2.txt', 'didnt': 'harryPotter2.txt', 'think': 'harryPotter2.txt', 'they': 'harryPotter2.txt', 'could': 'harryPotter2.txt', 'bear': 'harryPotter2.txt', 'it': 'harryPotter2.txt', 'if': 'harryPotter2.txt', 'anyone': 'harryPotter2.txt', 'found': 'harryPotter2.txt', 'out': 'harryPotter2.txt', 'about': 'harryPotter2.txt', 'the': 'harryPotter2.txt', 'Potters': 'harryPotter2.txt', 'Mrs': 'harryPotter2.txt', 'Potter': 'harryPotter2.txt', 'was': 'harryPotter2.txt', 'Dursleys': 'harryPotter2.txt', 'sister': 'harryPotter2.txt', 'but': 'harryPotter2.txt', 'hadnt': 'harryPotter2.txt', 'met': 'harryPotter2.txt', 'for': 'harryPotter2.txt', 'several': 'harryPotter2.txt', 'years': 'harryPotter2.txt', 'in': 'harryPotter2.txt', 'fact': 'harryPotter2.txt', 'Dursley': 'harryPotter2.txt', 'pretended': 'harryPotter2.txt', 'she': 'harryPotter2.txt', 'have': 'harryPotter2.txt', 'a': 'harryPotter2.txt', 'because': 'harryPotter2.txt', 'her': 'harryPotter2.txt', 'and': 'harryPotter2.txt', 'goodfornothing': 'harryPotter2.txt', 'husband': 'harryPotter2.txt', 'were': 'harryPotter2.txt', 'as': 'harryPotter2.txt', 'unDursleyish': 'harryPotter2.txt', 'possible': 'harryPotter2.txt', 'to': 'harryPotter2.txt', 'be': 'harryPotter2.txt', 'The': 'harryPotter2.txt', 'shuddered': 'harryPotter2.txt', 'what': 'harryPotter2.txt', 'neighbors': 'harryPotter2.txt', 'would': 'harryPotter2.txt', 'say': 'harryPotter2.txt', 'arrived': 'harryPotter2.txt', 'street': 'harryPotter2.txt', 'knew': 'harryPotter2.txt', 'that': 'harryPotter2.txt', 'had': 'harryPotter2.txt', 'small': 'harryPotter2.txt', 'son': 'harryPotter2.txt', 'too': 'harryPotter2.txt', 'never': 'harryPotter2.txt', 'even': 'harryPotter2.txt', 'seen': 'harryPotter2.txt', 'him': 'harryPotter2.txt', 'This': 'harryPotter2.txt', 'boy': 'harryPotter2.txt', 'another': 'harryPotter2.txt', 'good': 'harryPotter2.txt', 'reason': 'harryPotter2.txt', 'keeping': 'harryPotter2.txt', 'away': 'harryPotter2.txt', 'want': 'harryPotter2.txt', 'Dudley': 'harryPotter2.txt', 'mixing': 'harryPotter2.txt', 'with': 'harryPotter2.txt', 'child': 'harryPotter2.txt', 'like': 'harryPotter2.txt', 'When': 'harryPotter2.txt', 'Mr': 'harryPotter2.txt', 'woke': 'harryPotter2.txt', 'up': 'harryPotter2.txt', 'on': 'harryPotter2.txt', 'dull': 'harryPotter2.txt', 'gray': 'harryPotter2.txt', 'Tuesday': 'harryPotter2.txt', 'our': 'harryPotter2.txt', 'story': 'harryPotter2.txt', 'starts': 'harryPotter2.txt', 'there': 'harryPotter2.txt', 'nothing': 'harryPotter2.txt', 'cloudy': 'harryPotter2.txt', 'sky': 'harryPotter2.txt', 'outside': 'harryPotter2.txt', 'suggest': 'harryPotter2.txt', 'strange': 'harryPotter2.txt', 'mysterious': 'harryPotter2.txt', 'things': 'harryPotter2.txt', 'soon': 'harryPotter2.txt', 'happening': 'harryPotter2.txt', 'all': 'harryPotter2.txt', 'over': 'harryPotter2.txt', 'country': 'harryPotter2.txt', 'hummed': 'harryPotter2.txt', 'he': 'harryPotter2.txt', 'picked': 'harryPotter2.txt', 'his': 'harryPotter2.txt', 'most': 'harryPotter2.txt', 'boring': 'harryPotter2.txt', 'tie': 'harryPotter2.txt', 'work': 'harryPotter2.txt', 'gossiped': 'harryPotter2.txt', 'happily': 'harryPotter2.txt', 'wrestled': 'harryPotter2.txt', 'screaming': 'harryPotter2.txt', 'into': 'harryPotter2.txt', 'high': 'harryPotter2.txt', 'chair': 'harryPotter2.txt', 'nan': 'harryPotter2.txt', 'of': 'harryPotter2.txt', 'them': 'harryPotter2.txt', 'noticed': 'harryPotter2.txt', 'large': 'harryPotter2.txt', 'tawny': 'harryPotter2.txt', 'owl': 'harryPotter2.txt', 'flutter': 'harryPotter2.txt', 'past': 'harryPotter2.txt', 'window': 'harryPotter2.txt', 'At': 'harryPotter2.txt', 'half': 'harryPotter2.txt', 'eight': 'harryPotter2.txt', 'briefcase': 'harryPotter2.txt', 'pecked': 'harryPotter2.txt', 'cheek': 'harryPotter2.txt', 'tried': 'harryPotter2.txt', 'kiss': 'harryPotter2.txt', 'goodbye': 'harryPotter2.txt', 'missed': 'harryPotter2.txt', 'now': 'harryPotter2.txt', 'having': 'harryPotter2.txt', 'tantrum': 'harryPotter2.txt', 'throwing': 'harryPotter2.txt', 'cereal': 'harryPotter2.txt', 'at': 'harryPotter2.txt', 'walls': 'harryPotter2.txt', '“Little': 'harryPotter2.txt', 'tyke”': 'harryPotter2.txt', 'chortled': 'harryPotter2.txt', 'left': 'harryPotter2.txt', 'house': 'harryPotter2.txt', 'He': 'harryPotter2.txt', 'got': 'harryPotter2.txt', 'car': 'harryPotter2.txt', 'backed': 'harryPotter2.txt', 'number': 'harryPotter2.txt', 'fours': 'harryPotter2.txt', 'drive': 'harryPotter2.txt'}, {'Mr': 'harryPotter.txt', 'and': 'harryPotter.txt', 'Mrs': 'harryPotter.txt', 'Dursley': 'harryPotter.txt', 'of': 'harryPotter.txt', 'number': 'harryPotter.txt', 'four': 'harryPotter.txt', 'Privet': 'harryPotter.txt', 'Drive': 'harryPotter.txt', 'were': 'harryPotter.txt', 'proud': 'harryPotter.txt', 'to': 'harryPotter.txt', 'say': 'harryPotter.txt', 'that': 'harryPotter.txt', 'they': 'harryPotter.txt', 'perfectly': 'harryPotter.txt', 'normal': 'harryPotter.txt', 'thank': 'harryPotter.txt', 'you': 'harryPotter.txt', 'very': 'harryPotter.txt', 'much': 'harryPotter.txt', 'They': 'harryPotter.txt', 'the': 'harryPotter.txt', 'last': 'harryPotter.txt', 'people': 'harryPotter.txt', 'youd': 'harryPotter.txt', 'expect': 'harryPotter.txt', 'be': 'harryPotter.txt', 'involved': 'harryPotter.txt', 'in': 'harryPotter.txt', 'anything': 'harryPotter.txt', 'strange': 'harryPotter.txt', 'or': 'harryPotter.txt', 'mysterious': 'harryPotter.txt', 'because': 'harryPotter.txt', 'just': 'harryPotter.txt', 'didnt': 'harryPotter.txt', 'hold': 'harryPotter.txt', 'with': 'harryPotter.txt', 'such': 'harryPotter.txt', 'nonsense': 'harryPotter.txt', 'was': 'harryPotter.txt', 'director': 'harryPotter.txt', 'a': 'harryPotter.txt', 'firm': 'harryPotter.txt', 'called': 'harryPotter.txt', 'Grunnings': 'harryPotter.txt', 'which': 'harryPotter.txt', 'made': 'harryPotter.txt', 'drills': 'harryPotter.txt', 'He': 'harryPotter.txt', 'big': 'harryPotter.txt', 'beefy': 'harryPotter.txt', 'man': 'harryPotter.txt', 'hardly': 'harryPotter.txt', 'any': 'harryPotter.txt', 'neck': 'harryPotter.txt', 'although': 'harryPotter.txt', 'he': 'harryPotter.txt', 'did': 'harryPotter.txt', 'have': 'harryPotter.txt', 'large': 'harryPotter.txt', 'mustache': 'harryPotter.txt', 'thin': 'harryPotter.txt', 'blonde': 'harryPotter.txt', 'had': 'harryPotter.txt', 'nearly': 'harryPotter.txt', 'twice': 'harryPotter.txt', 'usual': 'harryPotter.txt', 'amount': 'harryPotter.txt', 'came': 'harryPotter.txt', 'useful': 'harryPotter.txt', 'as': 'harryPotter.txt', 'she': 'harryPotter.txt', 'spent': 'harryPotter.txt', 'so': 'harryPotter.txt', 'her': 'harryPotter.txt', 'time': 'harryPotter.txt', 'craning': 'harryPotter.txt', 'over': 'harryPotter.txt', 'garden': 'harryPotter.txt', 'fences': 'harryPotter.txt', 'spying': 'harryPotter.txt', 'on': 'harryPotter.txt', 'neighbors': 'harryPotter.txt', 'The': 'harryPotter.txt', 'Dursleys': 'harryPotter.txt', 'small': 'harryPotter.txt', 'son': 'harryPotter.txt', 'Dudley': 'harryPotter.txt', 'their': 'harryPotter.txt', 'opinion': 'harryPotter.txt', 'there': 'harryPotter.txt', 'no': 'harryPotter.txt', 'finer': 'harryPotter.txt', 'boy': 'harryPotter.txt', 'anywhere': 'harryPotter.txt'}]\n"
     ]
    }
   ],
   "source": [
    "#input the example text\n",
    "import string\n",
    "import re\n",
    "import os\n",
    "\n",
    "# Directory with all .txt files\n",
    "csv_directory = '/Users/nick/developer/ensf-612/assignment_1'\n",
    "\n",
    "dataframes = []\n",
    "kv_pairs = []\n",
    "\n",
    "# finds all .txt files in the current directory, and appends them into the dataframe\n",
    "for filename in os.listdir(csv_directory):\n",
    "    if filename.endswith('.txt'):\n",
    "        dic={}\n",
    "        \n",
    "        # Construct the full file path\n",
    "        file_path = os.path.join(csv_directory, filename)\n",
    "        print(file_path)\n",
    "        \n",
    "        df = pd.read_csv(file_path, delimiter=' ', header=None)\n",
    "        \n",
    "        for i in df:\n",
    "            dic[remove_punctuation(str(df[i].tolist()))] = filename\n",
    "        \n",
    "        dataframes.append(df.T)\n",
    "        kv_pairs.append(dic)\n",
    "        \n",
    "print(kv_pairs)\n",
    "        \n",
    "#removes all punctuations\n",
    "def remove_punctuation (input_str):\n",
    "    pattern = r'[!@#$%^&*()_+{}\\[\\]:;\"\\'’`<>,.?/\\|\\\\-]'\n",
    "    cleaned = re.sub(pattern, '', input_str)\n",
    "    return cleaned\n",
    "\n",
    "\n",
    "#Example bash command to run the python files above using hadoop streaming\n",
    "#mapper.py and reducer.py would be separate files.\n",
    "\n",
    "#hadoop jar $HADOOP_HOME/path\n",
    "#-files assignment1_mapper.py,assignment1_reducer.p -mapper assignment1_mapper.py -reducer assignment1_reducer.p \\\n",
    "#-input harryPotter.txt -output output_data"
   ]
  },
  {
   "cell_type": "markdown",
   "id": "b056adc7-d4db-44b2-8f65-57a9d02e29fc",
   "metadata": {},
   "source": [
    "#QUESTION 4"
   ]
  },
  {
   "cell_type": "code",
   "execution_count": null,
   "id": "c9078a01-84ec-4eb2-97a8-c7a9c0a4bb93",
   "metadata": {},
   "outputs": [],
   "source": [
    "import string\n",
    "import re\n",
    "\n",
    "file_path = 'harryPotter.txt'\n",
    "text4 = pd.read_csv(file_path, delimiter=' ', header=None)\n",
    "\n",
    "def split_text(input_str):\n",
    "    #split the input text into several strings, only split into 2 for this example.\n",
    "\n",
    "    string_a = input_str[:len(input_str)//2]\n",
    "    string_b = input_str[len(input_str)//2:]\n",
    "    \n",
    "    return [string_a, string_b]\n",
    "\n",
    "#removes all punctuations\n",
    "def remove_punctuation (input_str):\n",
    "    pattern = r'[!@#$%^&*()_+{}\\[\\]:;\"\\'<>,.?/\\|\\\\-]'\n",
    "    cleaned = re.sub(pattern, '', input_str)\n",
    "    return cleaned\n",
    "\n",
    "text4=text4.T\n",
    "text4_strings = text4[0].astype(str).tolist()\n",
    "\n",
    "\n",
    "strings = []\n",
    "strings = split_text(text4)\n",
    "\n",
    "#make key value pairs for each word, key is the first letter of the word. need to loop through all split documents\n",
    "for i in strings[0]:\n",
    "\n",
    "\n",
    "for i in strings[1]:\n",
    "    \n",
    "    \n",
    "    \n",
    "    \n",
    "\n",
    "print(strings)"
   ]
  }
 ],
 "metadata": {
  "kernelspec": {
   "display_name": "Python 3 (ipykernel)",
   "language": "python",
   "name": "python3"
  },
  "language_info": {
   "codemirror_mode": {
    "name": "ipython",
    "version": 3
   },
   "file_extension": ".py",
   "mimetype": "text/x-python",
   "name": "python",
   "nbconvert_exporter": "python",
   "pygments_lexer": "ipython3",
   "version": "3.11.5"
  }
 },
 "nbformat": 4,
 "nbformat_minor": 5
}
